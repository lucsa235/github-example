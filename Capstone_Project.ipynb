'This is my Assignment for the Coursera Course on Data Science'
import pandas as pd
import numpy as np
print('Hello Capstone Project Course!')
